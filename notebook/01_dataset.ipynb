{
 "cells": [
  {
   "cell_type": "code",
   "execution_count": 1,
   "id": "96c80d7f-4504-451b-a61c-46e925a3640b",
   "metadata": {},
   "outputs": [
    {
     "name": "stderr",
     "output_type": "stream",
     "text": [
      "C:\\Users\\s0928\\anaconda3\\envs\\csdpy39\\lib\\site-packages\\pandas\\core\\arrays\\masked.py:60: UserWarning: Pandas requires version '1.3.6' or newer of 'bottleneck' (version '1.3.5' currently installed).\n",
      "  from pandas.core import (\n"
     ]
    }
   ],
   "source": [
    "## Import packages\n",
    "import numpy as np\n",
    "import pathlib\n",
    "from ccdc import io\n",
    "from rdkit import Chem\n",
    "from tqdm import tqdm\n",
    "import pandas as pd\n",
    "import warnings\n",
    "warnings.simplefilter('ignore')\n",
    "entry_reader = io.EntryReader('CSD')\n",
    "\n",
    "# Run just one time (takes long time)\n",
    "sg_symbol_list, sg_num_list, smiles_list, refcode_list, z_list, z_prime_list = [], [], [], [], [], []\n",
    "a_list, b_list, c_list, alpha_list, beta_list, gamma_list = [], [], [], [], [], []\n",
    "density_list, mw_list, temp_list = [], [], []\n",
    "\n",
    "for i in tqdm(range(len(entry_reader))):\n",
    "    try:\n",
    "        data = entry_reader[i]\n",
    "        sg_num = data.crystal.spacegroup_number_and_setting[0]\n",
    "        if (sg_num >= 1 and \n",
    "            sg_num <= 230 and \n",
    "            data.crystal.z_prime == 1 and \n",
    "            data.has_3d_structure is True and \n",
    "            data.is_organic is True and \n",
    "            data.is_polymeric is False and \n",
    "            data.is_powder_study is False and \n",
    "            data.r_factor < 10 and \n",
    "            data.publication[1].name != 'CSD Communication' and\n",
    "            data.solvent is None):\n",
    "\n",
    "            # Get information\n",
    "            mol = Chem.MolFromSmiles(data.molecule.smiles)\n",
    "            smiles = Chem.MolToSmiles(mol)\n",
    "            mol = Chem.MolFromSmiles(smiles)\n",
    "            smiles = Chem.MolToSmiles(mol)\n",
    "            a = data.crystal.cell_lengths[0]\n",
    "            b = data.crystal.cell_lengths[1]\n",
    "            c = data.crystal.cell_lengths[2]\n",
    "            alpha = data.crystal.cell_angles[0]\n",
    "            beta = data.crystal.cell_angles[1]\n",
    "            gamma = data.crystal.cell_angles[2]\n",
    "            density = data.crystal.calculated_density\n",
    "            \n",
    "            # Store data\n",
    "            sg_symbol_list.append(data.crystal.spacegroup_symbol)\n",
    "            sg_num_list.append(sg_num)\n",
    "            smiles_list.append(smiles)\n",
    "            mw_list.append(data.molecule.molecular_weight)\n",
    "            refcode_list.append(data.crystal.identifier)\n",
    "            z_list.append(data.crystal.z_value)\n",
    "            z_prime_list.append(data.crystal.z_prime)\n",
    "            a_list.append(a)\n",
    "            b_list.append(b)\n",
    "            c_list.append(c)\n",
    "            alpha_list.append(alpha)\n",
    "            beta_list.append(beta)\n",
    "            gamma_list.append(gamma)\n",
    "            density_list.append(density)\n",
    "            temp_list.append(data.temperature)\n",
    "    except:\n",
    "        continue\n",
    "\n",
    "df = pd.DataFrame({\n",
    "    'refcode': refcode_list, \n",
    "    'SMILES': smiles_list, \n",
    "    'MW': mw_list,\n",
    "    'sg_symbol': sg_symbol_list, \n",
    "    'sg_number': sg_num_list,\n",
    "    'Z-prime': z_prime_list,\n",
    "    'Z-value': z_list,\n",
    "    'a': a_list,\n",
    "    'b': b_list,\n",
    "    'c': c_list,\n",
    "    'alpha': alpha_list,\n",
    "    'beta': beta_list,\n",
    "    'gamma': gamma_list,\n",
    "    'density': density_list,\n",
    "    'temprature': temp_list\n",
    "})"
   ]
  },
  {
   "cell_type": "code",
   "execution_count": 5,
   "id": "a6b29cdf-8183-471b-8836-dcaaa41d6d78",
   "metadata": {},
   "outputs": [
    {
     "name": "stdout",
     "output_type": "stream",
     "text": [
      "1272905\n",
      "571101\n",
      "CPU times: total: 8min 31s\n",
      "Wall time: 11min 48s\n"
     ]
    }
   ],
   "source": [
    "%%time\n",
    "from ccdc import io\n",
    "entry_reader = io.EntryReader('CSD')\n",
    "print(len(entry_reader))\n",
    "organics = [data for data in entry_reader if data.is_organic]\n",
    "print(len(organics))"
   ]
  },
  {
   "cell_type": "code",
   "execution_count": 3,
   "id": "37bb1f2c-e885-409f-ae7a-0734d8f1c302",
   "metadata": {},
   "outputs": [
    {
     "data": {
      "text/plain": [
       "(261686, 15)"
      ]
     },
     "execution_count": 3,
     "metadata": {},
     "output_type": "execute_result"
    }
   ],
   "source": [
    "df.shape"
   ]
  },
  {
   "cell_type": "code",
   "execution_count": 4,
   "id": "d288057d-af2f-472f-a106-748c570de9ca",
   "metadata": {},
   "outputs": [],
   "source": [
    "# checkpont\n",
    "df.to_csv('crystal-info_CSD.csv')"
   ]
  },
  {
   "cell_type": "markdown",
   "id": "9be28244-e056-4d82-b70d-86ba4cafd952",
   "metadata": {},
   "source": [
    "# Filtering"
   ]
  },
  {
   "cell_type": "code",
   "execution_count": 130,
   "id": "12b79af9-1033-4d33-9f14-d99b9db8836b",
   "metadata": {
    "scrolled": true
   },
   "outputs": [
    {
     "data": {
      "text/plain": [
       "(173915, 15)"
      ]
     },
     "execution_count": 130,
     "metadata": {},
     "output_type": "execute_result"
    }
   ],
   "source": [
    "df = pd.read_csv('crystal-info_CSD.csv', index_col=0)\n",
    "df.shape"
   ]
  },
  {
   "cell_type": "code",
   "execution_count": 132,
   "id": "164eb329-5513-465d-b09e-c43a36d326c7",
   "metadata": {},
   "outputs": [
    {
     "data": {
      "text/plain": [
       "Index(['refcode', 'SMILES', 'MW', 'sg_symbol', 'sg_number', 'Z-prime',\n",
       "       'Z-value', 'a', 'b', 'c', 'alpha', 'beta', 'gamma', 'density',\n",
       "       'temperature'],\n",
       "      dtype='object')"
      ]
     },
     "execution_count": 132,
     "metadata": {},
     "output_type": "execute_result"
    }
   ],
   "source": [
    "df.columns"
   ]
  },
  {
   "cell_type": "code",
   "execution_count": 142,
   "id": "a997655f-bc72-46fa-b096-b79f252a77af",
   "metadata": {},
   "outputs": [
    {
     "name": "stdout",
     "output_type": "stream",
     "text": [
      "173915 170278\n"
     ]
    }
   ],
   "source": [
    "filtered_df = df[\n",
    "    (df['MW'] <= 1500) & \n",
    "    (df['Z-value'] <= 16) &\n",
    "    (df['a'] >= 2) & (df['a'] <= 50) &\n",
    "    (df['b'] >= 2) & (df['b'] <= 50) &\n",
    "    (df['c'] >= 2) & (df['c'] <= 50) &\n",
    "    (df['alpha'] >= 60) & (df['alpha'] <= 120) &\n",
    "    (df['beta'] >= 60) & (df['beta'] <= 120) &\n",
    "    (df['gamma'] >= 60) & (df['gamma'] <= 120) &\n",
    "    (df['density'] <= 3)\n",
    "]\n",
    "print(df.shape[0], filtered_df.shape[0])"
   ]
  },
  {
   "cell_type": "code",
   "execution_count": 153,
   "id": "26fa1e6d-efee-460e-83a0-6e8ab873ecd1",
   "metadata": {},
   "outputs": [],
   "source": [
    "filtered_df.to_csv('crystal-info_CSD_filtered.csv')"
   ]
  },
  {
   "cell_type": "code",
   "execution_count": 34,
   "id": "f69b5cd4-4f6b-4ca7-97f1-90a06e4ca184",
   "metadata": {},
   "outputs": [
    {
     "name": "stderr",
     "output_type": "stream",
     "text": [
      "C:\\Users\\s0928\\anaconda3\\envs\\csdpy39\\lib\\site-packages\\spglib\\spglib.py:115: DeprecationWarning: dict interface (SpglibDataset['international']) is deprecated.Use attribute interface ({self.__class__.__name__}.{key}) instead\n",
      "  warnings.warn(\n",
      "C:\\Users\\s0928\\anaconda3\\envs\\csdpy39\\lib\\site-packages\\spglib\\spglib.py:115: DeprecationWarning: dict interface (SpglibDataset['number']) is deprecated.Use attribute interface ({self.__class__.__name__}.{key}) instead\n",
      "  warnings.warn(\n",
      "C:\\Users\\s0928\\anaconda3\\envs\\csdpy39\\lib\\site-packages\\spglib\\spglib.py:115: DeprecationWarning: dict interface (SpglibDataset['equivalent_atoms']) is deprecated.Use attribute interface ({self.__class__.__name__}.{key}) instead\n",
      "  warnings.warn(\n",
      "C:\\Users\\s0928\\anaconda3\\envs\\csdpy39\\lib\\site-packages\\spglib\\spglib.py:115: DeprecationWarning: dict interface (SpglibDataset['wyckoffs']) is deprecated.Use attribute interface ({self.__class__.__name__}.{key}) instead\n",
      "  warnings.warn(\n"
     ]
    },
    {
     "data": {
      "text/plain": [
       "\n",
       "------Crystal from CSD: URUCER------\n",
       "Dimension: 3\n",
       "Composition: [O]4[CC(NC(=O)c1ccc(cc1)N=Nc1ccc(cc1)N(C)C)c1ccccc1]8\n",
       "Group: I 1 2/c 1 (15)\n",
       " 30.2919,   5.8683,  23.9380,  90.0000,  67.4968,  90.0000, monoclinic\n",
       "Wyckoff sites:\n",
       "\tH2O1         @ [ 0.0000  0.8650  0.2500]  WP [4e] Site [2] Euler [   0.0    0.0    0.0]\n",
       "\tH24C23N4O1   @ [ 0.8534  0.7915  0.7770]  WP [8f] Site [1] Euler [   0.0    0.0    0.0]"
      ]
     },
     "execution_count": 34,
     "metadata": {},
     "output_type": "execute_result"
    }
   ],
   "source": [
    "crystal = pyxtal(molecular=True)\n",
    "crystal.from_CSD('URUCER')\n",
    "crystal"
   ]
  },
  {
   "cell_type": "code",
   "execution_count": 42,
   "id": "39a67d59-268b-4318-9500-c4573d700b19",
   "metadata": {},
   "outputs": [
    {
     "data": {
      "text/plain": [
       "['4e', '8f']"
      ]
     },
     "execution_count": 42,
     "metadata": {},
     "output_type": "execute_result"
    }
   ],
   "source": [
    "dict_site = crystal.get_site_labels()\n",
    "label = [dict_site[key][0] for key in list(dict_site.keys())]\n",
    "label\n",
    "# dict_site"
   ]
  },
  {
   "cell_type": "code",
   "execution_count": 46,
   "id": "59c9e587-9c91-4fbe-a6f6-839423c4036d",
   "metadata": {},
   "outputs": [
    {
     "name": "stderr",
     "output_type": "stream",
     "text": [
      "  0%|                                                                                           | 0/50 [00:00<?, ?it/s]C:\\Users\\s0928\\anaconda3\\envs\\csdpy39\\lib\\site-packages\\spglib\\spglib.py:115: DeprecationWarning: dict interface (SpglibDataset['international']) is deprecated.Use attribute interface ({self.__class__.__name__}.{key}) instead\n",
      "  warnings.warn(\n",
      "C:\\Users\\s0928\\anaconda3\\envs\\csdpy39\\lib\\site-packages\\spglib\\spglib.py:115: DeprecationWarning: dict interface (SpglibDataset['number']) is deprecated.Use attribute interface ({self.__class__.__name__}.{key}) instead\n",
      "  warnings.warn(\n",
      "C:\\Users\\s0928\\anaconda3\\envs\\csdpy39\\lib\\site-packages\\spglib\\spglib.py:115: DeprecationWarning: dict interface (SpglibDataset['equivalent_atoms']) is deprecated.Use attribute interface ({self.__class__.__name__}.{key}) instead\n",
      "  warnings.warn(\n",
      "C:\\Users\\s0928\\anaconda3\\envs\\csdpy39\\lib\\site-packages\\spglib\\spglib.py:115: DeprecationWarning: dict interface (SpglibDataset['wyckoffs']) is deprecated.Use attribute interface ({self.__class__.__name__}.{key}) instead\n",
      "  warnings.warn(\n",
      " 32%|██████████████████████████▏                                                       | 16/50 [00:05<00:11,  3.08it/s][09:49:42] UFFTYPER: Warning: hybridization set to SP3 for atom 8\n",
      "[09:49:42] UFFTYPER: Warning: hybridization set to SP3 for atom 8\n",
      "[09:49:43] UFFTYPER: Warning: hybridization set to SP3 for atom 8\n",
      "[09:49:43] UFFTYPER: Warning: hybridization set to SP3 for atom 8\n",
      "[09:49:43] UFFTYPER: Warning: hybridization set to SP3 for atom 8\n",
      "[09:49:43] UFFTYPER: Warning: hybridization set to SP3 for atom 8\n",
      "[09:49:43] UFFTYPER: Warning: hybridization set to SP3 for atom 8\n",
      " 46%|█████████████████████████████████████▋                                            | 23/50 [00:08<00:08,  3.01it/s][09:49:45] UFFTYPER: Unrecognized charge state for atom: 10\n",
      " 54%|████████████████████████████████████████████▎                                     | 27/50 [00:10<00:08,  2.74it/s][09:49:47] UFFTYPER: Warning: hybridization set to SP3 for atom 15\n",
      "100%|██████████████████████████████████████████████████████████████████████████████████| 50/50 [00:17<00:00,  2.79it/s]\n"
     ]
    },
    {
     "data": {
      "text/html": [
       "<div>\n",
       "<style scoped>\n",
       "    .dataframe tbody tr th:only-of-type {\n",
       "        vertical-align: middle;\n",
       "    }\n",
       "\n",
       "    .dataframe tbody tr th {\n",
       "        vertical-align: top;\n",
       "    }\n",
       "\n",
       "    .dataframe thead th {\n",
       "        text-align: right;\n",
       "    }\n",
       "</style>\n",
       "<table border=\"1\" class=\"dataframe\">\n",
       "  <thead>\n",
       "    <tr style=\"text-align: right;\">\n",
       "      <th></th>\n",
       "      <th>sg</th>\n",
       "      <th>wyck_label</th>\n",
       "    </tr>\n",
       "  </thead>\n",
       "  <tbody>\n",
       "    <tr>\n",
       "      <th>0</th>\n",
       "      <td>14</td>\n",
       "      <td>[4e]</td>\n",
       "    </tr>\n",
       "    <tr>\n",
       "      <th>1</th>\n",
       "      <td>14</td>\n",
       "      <td>[4e]</td>\n",
       "    </tr>\n",
       "    <tr>\n",
       "      <th>2</th>\n",
       "      <td>14</td>\n",
       "      <td>[4e]</td>\n",
       "    </tr>\n",
       "    <tr>\n",
       "      <th>3</th>\n",
       "      <td>14</td>\n",
       "      <td>[4e]</td>\n",
       "    </tr>\n",
       "    <tr>\n",
       "      <th>4</th>\n",
       "      <td>2</td>\n",
       "      <td>[2i]</td>\n",
       "    </tr>\n",
       "    <tr>\n",
       "      <th>5</th>\n",
       "      <td>19</td>\n",
       "      <td>[4a]</td>\n",
       "    </tr>\n",
       "    <tr>\n",
       "      <th>6</th>\n",
       "      <td>33</td>\n",
       "      <td>[4a]</td>\n",
       "    </tr>\n",
       "    <tr>\n",
       "      <th>7</th>\n",
       "      <td>2</td>\n",
       "      <td>[2i]</td>\n",
       "    </tr>\n",
       "    <tr>\n",
       "      <th>8</th>\n",
       "      <td>14</td>\n",
       "      <td>[4e]</td>\n",
       "    </tr>\n",
       "    <tr>\n",
       "      <th>9</th>\n",
       "      <td>14</td>\n",
       "      <td>[4e]</td>\n",
       "    </tr>\n",
       "    <tr>\n",
       "      <th>10</th>\n",
       "      <td>19</td>\n",
       "      <td>[4a]</td>\n",
       "    </tr>\n",
       "    <tr>\n",
       "      <th>11</th>\n",
       "      <td>2</td>\n",
       "      <td>[2i]</td>\n",
       "    </tr>\n",
       "    <tr>\n",
       "      <th>12</th>\n",
       "      <td>144</td>\n",
       "      <td>[3a]</td>\n",
       "    </tr>\n",
       "    <tr>\n",
       "      <th>13</th>\n",
       "      <td>14</td>\n",
       "      <td>[4e]</td>\n",
       "    </tr>\n",
       "    <tr>\n",
       "      <th>14</th>\n",
       "      <td>19</td>\n",
       "      <td>[4a]</td>\n",
       "    </tr>\n",
       "    <tr>\n",
       "      <th>15</th>\n",
       "      <td>19</td>\n",
       "      <td>[4a]</td>\n",
       "    </tr>\n",
       "    <tr>\n",
       "      <th>16</th>\n",
       "      <td>14</td>\n",
       "      <td>[4e]</td>\n",
       "    </tr>\n",
       "    <tr>\n",
       "      <th>17</th>\n",
       "      <td>2</td>\n",
       "      <td>[2i]</td>\n",
       "    </tr>\n",
       "    <tr>\n",
       "      <th>18</th>\n",
       "      <td>60</td>\n",
       "      <td>[8d]</td>\n",
       "    </tr>\n",
       "    <tr>\n",
       "      <th>19</th>\n",
       "      <td>14</td>\n",
       "      <td>[4e]</td>\n",
       "    </tr>\n",
       "    <tr>\n",
       "      <th>20</th>\n",
       "      <td>4</td>\n",
       "      <td>[2a]</td>\n",
       "    </tr>\n",
       "    <tr>\n",
       "      <th>21</th>\n",
       "      <td>4</td>\n",
       "      <td>[2a]</td>\n",
       "    </tr>\n",
       "    <tr>\n",
       "      <th>22</th>\n",
       "      <td>14</td>\n",
       "      <td>[4e]</td>\n",
       "    </tr>\n",
       "    <tr>\n",
       "      <th>23</th>\n",
       "      <td>15</td>\n",
       "      <td>[8f]</td>\n",
       "    </tr>\n",
       "    <tr>\n",
       "      <th>24</th>\n",
       "      <td>14</td>\n",
       "      <td>[4e]</td>\n",
       "    </tr>\n",
       "    <tr>\n",
       "      <th>25</th>\n",
       "      <td>19</td>\n",
       "      <td>[4a]</td>\n",
       "    </tr>\n",
       "    <tr>\n",
       "      <th>26</th>\n",
       "      <td>61</td>\n",
       "      <td>[8c]</td>\n",
       "    </tr>\n",
       "    <tr>\n",
       "      <th>27</th>\n",
       "      <td>14</td>\n",
       "      <td>[4e]</td>\n",
       "    </tr>\n",
       "    <tr>\n",
       "      <th>28</th>\n",
       "      <td>20</td>\n",
       "      <td>[8c]</td>\n",
       "    </tr>\n",
       "    <tr>\n",
       "      <th>29</th>\n",
       "      <td>2</td>\n",
       "      <td>[2i]</td>\n",
       "    </tr>\n",
       "    <tr>\n",
       "      <th>30</th>\n",
       "      <td>19</td>\n",
       "      <td>[4a]</td>\n",
       "    </tr>\n",
       "    <tr>\n",
       "      <th>31</th>\n",
       "      <td>2</td>\n",
       "      <td>[2i]</td>\n",
       "    </tr>\n",
       "    <tr>\n",
       "      <th>32</th>\n",
       "      <td>2</td>\n",
       "      <td>[2i]</td>\n",
       "    </tr>\n",
       "    <tr>\n",
       "      <th>33</th>\n",
       "      <td>2</td>\n",
       "      <td>[2i]</td>\n",
       "    </tr>\n",
       "    <tr>\n",
       "      <th>34</th>\n",
       "      <td>4</td>\n",
       "      <td>[2a]</td>\n",
       "    </tr>\n",
       "    <tr>\n",
       "      <th>35</th>\n",
       "      <td>19</td>\n",
       "      <td>[4a]</td>\n",
       "    </tr>\n",
       "    <tr>\n",
       "      <th>36</th>\n",
       "      <td>14</td>\n",
       "      <td>[4e]</td>\n",
       "    </tr>\n",
       "    <tr>\n",
       "      <th>37</th>\n",
       "      <td>2</td>\n",
       "      <td>[2i]</td>\n",
       "    </tr>\n",
       "    <tr>\n",
       "      <th>38</th>\n",
       "      <td>19</td>\n",
       "      <td>[4a]</td>\n",
       "    </tr>\n",
       "    <tr>\n",
       "      <th>39</th>\n",
       "      <td>2</td>\n",
       "      <td>[2i]</td>\n",
       "    </tr>\n",
       "    <tr>\n",
       "      <th>40</th>\n",
       "      <td>14</td>\n",
       "      <td>[4e]</td>\n",
       "    </tr>\n",
       "    <tr>\n",
       "      <th>41</th>\n",
       "      <td>14</td>\n",
       "      <td>[4e]</td>\n",
       "    </tr>\n",
       "    <tr>\n",
       "      <th>42</th>\n",
       "      <td>14</td>\n",
       "      <td>[4e]</td>\n",
       "    </tr>\n",
       "    <tr>\n",
       "      <th>43</th>\n",
       "      <td>14</td>\n",
       "      <td>[4e]</td>\n",
       "    </tr>\n",
       "    <tr>\n",
       "      <th>44</th>\n",
       "      <td>9</td>\n",
       "      <td>[4a]</td>\n",
       "    </tr>\n",
       "    <tr>\n",
       "      <th>45</th>\n",
       "      <td>14</td>\n",
       "      <td>[4e]</td>\n",
       "    </tr>\n",
       "    <tr>\n",
       "      <th>46</th>\n",
       "      <td>14</td>\n",
       "      <td>[4e]</td>\n",
       "    </tr>\n",
       "    <tr>\n",
       "      <th>47</th>\n",
       "      <td>2</td>\n",
       "      <td>[2i]</td>\n",
       "    </tr>\n",
       "    <tr>\n",
       "      <th>48</th>\n",
       "      <td>14</td>\n",
       "      <td>[4e]</td>\n",
       "    </tr>\n",
       "    <tr>\n",
       "      <th>49</th>\n",
       "      <td>14</td>\n",
       "      <td>[4e]</td>\n",
       "    </tr>\n",
       "  </tbody>\n",
       "</table>\n",
       "</div>"
      ],
      "text/plain": [
       "     sg wyck_label\n",
       "0    14       [4e]\n",
       "1    14       [4e]\n",
       "2    14       [4e]\n",
       "3    14       [4e]\n",
       "4     2       [2i]\n",
       "5    19       [4a]\n",
       "6    33       [4a]\n",
       "7     2       [2i]\n",
       "8    14       [4e]\n",
       "9    14       [4e]\n",
       "10   19       [4a]\n",
       "11    2       [2i]\n",
       "12  144       [3a]\n",
       "13   14       [4e]\n",
       "14   19       [4a]\n",
       "15   19       [4a]\n",
       "16   14       [4e]\n",
       "17    2       [2i]\n",
       "18   60       [8d]\n",
       "19   14       [4e]\n",
       "20    4       [2a]\n",
       "21    4       [2a]\n",
       "22   14       [4e]\n",
       "23   15       [8f]\n",
       "24   14       [4e]\n",
       "25   19       [4a]\n",
       "26   61       [8c]\n",
       "27   14       [4e]\n",
       "28   20       [8c]\n",
       "29    2       [2i]\n",
       "30   19       [4a]\n",
       "31    2       [2i]\n",
       "32    2       [2i]\n",
       "33    2       [2i]\n",
       "34    4       [2a]\n",
       "35   19       [4a]\n",
       "36   14       [4e]\n",
       "37    2       [2i]\n",
       "38   19       [4a]\n",
       "39    2       [2i]\n",
       "40   14       [4e]\n",
       "41   14       [4e]\n",
       "42   14       [4e]\n",
       "43   14       [4e]\n",
       "44    9       [4a]\n",
       "45   14       [4e]\n",
       "46   14       [4e]\n",
       "47    2       [2i]\n",
       "48   14       [4e]\n",
       "49   14       [4e]"
      ]
     },
     "metadata": {},
     "output_type": "display_data"
    }
   ],
   "source": [
    "from pyxtal import pyxtal\n",
    "list_wyck_label, list_wyck_1, list_wyck_2, list_wyck_3, list_sg = [],[],[],[],[]\n",
    "filtered_df = pd.read_csv('crystal-info_CSD_filtered.csv', index_col=0)\n",
    "\n",
    "for refcode in tqdm(filtered_df['refcode'].sample(n=50).tolist()):\n",
    "    crystal = pyxtal(molecular=True)\n",
    "    try:\n",
    "        crystal.from_CSD(refcode)\n",
    "        dict_site = crystal.get_site_labels()\n",
    "        label = [dict_site[key][0] for key in list(dict_site.keys())] #dict_site[list(dict_site.keys())[0]][0]\n",
    "        wyck_pos = crystal.mol_sites[0].position\n",
    "        sg_number = crystal.group.number\n",
    "        list_wyck_label.append(label)\n",
    "        list_sg.append(str(int(sg_number)))\n",
    "    except:\n",
    "        print(refcode)\n",
    "        list_wyck_label.append(np.nan)\n",
    "        list_sg.append(np.nan)\n",
    "        \n",
    "df_wyck_check = pd.DataFrame({\n",
    "    'sg': list_sg,\n",
    "    'wyck_label': list_wyck_label})\n",
    "display(df_wyck_check)"
   ]
  },
  {
   "cell_type": "code",
   "execution_count": 144,
   "id": "5e11061b-bb06-4a1e-83eb-a9296fd9c9af",
   "metadata": {},
   "outputs": [
    {
     "data": {
      "text/html": [
       "<div>\n",
       "<style scoped>\n",
       "    .dataframe tbody tr th:only-of-type {\n",
       "        vertical-align: middle;\n",
       "    }\n",
       "\n",
       "    .dataframe tbody tr th {\n",
       "        vertical-align: top;\n",
       "    }\n",
       "\n",
       "    .dataframe thead th {\n",
       "        text-align: right;\n",
       "    }\n",
       "</style>\n",
       "<table border=\"1\" class=\"dataframe\">\n",
       "  <thead>\n",
       "    <tr style=\"text-align: right;\">\n",
       "      <th></th>\n",
       "      <th>MW</th>\n",
       "      <th>sg_number</th>\n",
       "      <th>Z-prime</th>\n",
       "      <th>Z-value</th>\n",
       "      <th>a</th>\n",
       "      <th>b</th>\n",
       "      <th>c</th>\n",
       "      <th>alpha</th>\n",
       "      <th>beta</th>\n",
       "      <th>gamma</th>\n",
       "      <th>density</th>\n",
       "    </tr>\n",
       "  </thead>\n",
       "  <tbody>\n",
       "    <tr>\n",
       "      <th>count</th>\n",
       "      <td>170278.000000</td>\n",
       "      <td>170278.000000</td>\n",
       "      <td>170278.0</td>\n",
       "      <td>170278.000000</td>\n",
       "      <td>170278.000000</td>\n",
       "      <td>170278.000000</td>\n",
       "      <td>170278.000000</td>\n",
       "      <td>170278.000000</td>\n",
       "      <td>170278.000000</td>\n",
       "      <td>170278.000000</td>\n",
       "      <td>170278.000000</td>\n",
       "    </tr>\n",
       "    <tr>\n",
       "      <th>mean</th>\n",
       "      <td>365.839890</td>\n",
       "      <td>16.604053</td>\n",
       "      <td>1.0</td>\n",
       "      <td>3.919291</td>\n",
       "      <td>10.812613</td>\n",
       "      <td>11.858225</td>\n",
       "      <td>15.417823</td>\n",
       "      <td>89.928164</td>\n",
       "      <td>95.823835</td>\n",
       "      <td>90.086660</td>\n",
       "      <td>1.364635</td>\n",
       "    </tr>\n",
       "    <tr>\n",
       "      <th>std</th>\n",
       "      <td>139.430258</td>\n",
       "      <td>19.239562</td>\n",
       "      <td>0.0</td>\n",
       "      <td>1.856504</td>\n",
       "      <td>5.201598</td>\n",
       "      <td>5.109541</td>\n",
       "      <td>6.310686</td>\n",
       "      <td>5.935547</td>\n",
       "      <td>9.110591</td>\n",
       "      <td>6.672459</td>\n",
       "      <td>0.180201</td>\n",
       "    </tr>\n",
       "    <tr>\n",
       "      <th>min</th>\n",
       "      <td>30.025900</td>\n",
       "      <td>1.000000</td>\n",
       "      <td>1.0</td>\n",
       "      <td>1.000000</td>\n",
       "      <td>3.314000</td>\n",
       "      <td>3.226600</td>\n",
       "      <td>3.555000</td>\n",
       "      <td>60.173000</td>\n",
       "      <td>60.710000</td>\n",
       "      <td>60.070000</td>\n",
       "      <td>0.428000</td>\n",
       "    </tr>\n",
       "    <tr>\n",
       "      <th>25%</th>\n",
       "      <td>275.256200</td>\n",
       "      <td>4.000000</td>\n",
       "      <td>1.0</td>\n",
       "      <td>2.000000</td>\n",
       "      <td>7.589720</td>\n",
       "      <td>8.556800</td>\n",
       "      <td>11.051000</td>\n",
       "      <td>90.000000</td>\n",
       "      <td>90.000000</td>\n",
       "      <td>90.000000</td>\n",
       "      <td>1.255000</td>\n",
       "    </tr>\n",
       "    <tr>\n",
       "      <th>50%</th>\n",
       "      <td>344.300550</td>\n",
       "      <td>14.000000</td>\n",
       "      <td>1.0</td>\n",
       "      <td>4.000000</td>\n",
       "      <td>9.529700</td>\n",
       "      <td>10.695000</td>\n",
       "      <td>14.108000</td>\n",
       "      <td>90.000000</td>\n",
       "      <td>93.871000</td>\n",
       "      <td>90.000000</td>\n",
       "      <td>1.331000</td>\n",
       "    </tr>\n",
       "    <tr>\n",
       "      <th>75%</th>\n",
       "      <td>430.372750</td>\n",
       "      <td>19.000000</td>\n",
       "      <td>1.0</td>\n",
       "      <td>4.000000</td>\n",
       "      <td>12.347075</td>\n",
       "      <td>13.836425</td>\n",
       "      <td>18.607875</td>\n",
       "      <td>90.000000</td>\n",
       "      <td>101.846000</td>\n",
       "      <td>90.000000</td>\n",
       "      <td>1.431000</td>\n",
       "    </tr>\n",
       "    <tr>\n",
       "      <th>max</th>\n",
       "      <td>1498.866000</td>\n",
       "      <td>198.000000</td>\n",
       "      <td>1.0</td>\n",
       "      <td>16.000000</td>\n",
       "      <td>49.811700</td>\n",
       "      <td>49.947000</td>\n",
       "      <td>49.916000</td>\n",
       "      <td>119.960000</td>\n",
       "      <td>120.000000</td>\n",
       "      <td>120.000000</td>\n",
       "      <td>2.996000</td>\n",
       "    </tr>\n",
       "  </tbody>\n",
       "</table>\n",
       "</div>"
      ],
      "text/plain": [
       "                  MW      sg_number   Z-prime        Z-value              a  \\\n",
       "count  170278.000000  170278.000000  170278.0  170278.000000  170278.000000   \n",
       "mean      365.839890      16.604053       1.0       3.919291      10.812613   \n",
       "std       139.430258      19.239562       0.0       1.856504       5.201598   \n",
       "min        30.025900       1.000000       1.0       1.000000       3.314000   \n",
       "25%       275.256200       4.000000       1.0       2.000000       7.589720   \n",
       "50%       344.300550      14.000000       1.0       4.000000       9.529700   \n",
       "75%       430.372750      19.000000       1.0       4.000000      12.347075   \n",
       "max      1498.866000     198.000000       1.0      16.000000      49.811700   \n",
       "\n",
       "                   b              c          alpha           beta  \\\n",
       "count  170278.000000  170278.000000  170278.000000  170278.000000   \n",
       "mean       11.858225      15.417823      89.928164      95.823835   \n",
       "std         5.109541       6.310686       5.935547       9.110591   \n",
       "min         3.226600       3.555000      60.173000      60.710000   \n",
       "25%         8.556800      11.051000      90.000000      90.000000   \n",
       "50%        10.695000      14.108000      90.000000      93.871000   \n",
       "75%        13.836425      18.607875      90.000000     101.846000   \n",
       "max        49.947000      49.916000     119.960000     120.000000   \n",
       "\n",
       "               gamma        density  \n",
       "count  170278.000000  170278.000000  \n",
       "mean       90.086660       1.364635  \n",
       "std         6.672459       0.180201  \n",
       "min        60.070000       0.428000  \n",
       "25%        90.000000       1.255000  \n",
       "50%        90.000000       1.331000  \n",
       "75%        90.000000       1.431000  \n",
       "max       120.000000       2.996000  "
      ]
     },
     "execution_count": 144,
     "metadata": {},
     "output_type": "execute_result"
    }
   ],
   "source": [
    "filtered_df.describe()"
   ]
  },
  {
   "cell_type": "code",
   "execution_count": 78,
   "id": "407d6779-e165-4f5e-8aaa-755a1d6d5286",
   "metadata": {},
   "outputs": [
    {
     "data": {
      "image/png": "[encoded data removed]",
      "text/plain": [
       "<Figure size 500x400 with 1 Axes>"
      ]
     },
     "metadata": {},
     "output_type": "display_data"
    },
    {
     "data": {
      "image/png": "[encoded data removed]",
      "text/plain": [
       "<Figure size 500x400 with 1 Axes>"
      ]
     },
     "metadata": {},
     "output_type": "display_data"
    },
    {
     "data": {
      "image/png": "[encoded data removed]",
      "text/plain": [
       "<Figure size 500x400 with 1 Axes>"
      ]
     },
     "metadata": {},
     "output_type": "display_data"
    },
    {
     "data": {
      "image/png": "[encoded data removed]",
      "text/plain": [
       "<Figure size 500x400 with 1 Axes>"
      ]
     },
     "metadata": {},
     "output_type": "display_data"
    }
   ],
   "source": [
    "import matplotlib.pyplot as plt\n",
    "plt.rcParams['font.family'] = 'Arial'\n",
    "plt.rcParams['font.size'] = 14\n",
    "\n",
    "data = filtered_df\n",
    "\n",
    "# Subplot 1: MW Distribution\n",
    "tate, yoko = 5,4\n",
    "color = 'skyblue'\n",
    "plt.figure(figsize=(tate, yoko))\n",
    "plt.hist(data['MW'], bins=30, color=color, edgecolor='black', density=True)\n",
    "plt.xlim(0, 1500)\n",
    "plt.xlabel('MW')\n",
    "plt.ylabel('Probability')\n",
    "plt.tight_layout()\n",
    "plt.savefig('figure/CSD_dataset_MW.png', dpi=300)\n",
    "\n",
    "# Subplot 2: 'a' dimension Distribution\n",
    "plt.figure(figsize=(tate,yoko))\n",
    "plt.hist(data['a'], bins=30, color=color, edgecolor='black', density=True)\n",
    "plt.xlim(0,50)\n",
    "plt.xlabel('$a$ (Å)')\n",
    "plt.ylabel('Probability')\n",
    "plt.tight_layout()\n",
    "plt.savefig('figure/CSD_dataset_lattice_a.png', dpi=300)\n",
    "\n",
    "# Subplot 3: 'b' dimension Distribution\n",
    "plt.figure(figsize=(tate,yoko))\n",
    "plt.hist(data['b'], bins=30, color=color, edgecolor='black', density=True)\n",
    "plt.xlim(0,50)\n",
    "plt.xlabel('$b$ (Å)')\n",
    "plt.ylabel('Probability')\n",
    "plt.tight_layout()\n",
    "plt.savefig('figure/CSD_dataset_lattice_b.png', dpi=300)\n",
    "\n",
    "# Subplot 4: 'c' dimension Distribution\n",
    "plt.figure(figsize=(tate,yoko))\n",
    "plt.hist(data['c'], bins=30, color=color, edgecolor='black', density=True)\n",
    "plt.xlim(0,50)\n",
    "plt.xlabel('$c$ (Å)')\n",
    "plt.ylabel('Probability')\n",
    "plt.tight_layout()\n",
    "plt.savefig('figure/CSD_dataset_lattice_c.png', dpi=300)"
   ]
  },
  {
   "cell_type": "code",
   "execution_count": 80,
   "id": "4d07dfa5-d313-47d9-8476-96f94cc2ca62",
   "metadata": {},
   "outputs": [
    {
     "data": {
      "image/png": "[encoded data removed]",
      "text/plain": [
       "<Figure size 500x400 with 1 Axes>"
      ]
     },
     "metadata": {},
     "output_type": "display_data"
    },
    {
     "data": {
      "image/png": "[encoded data removed]",
      "text/plain": [
       "<Figure size 500x400 with 1 Axes>"
      ]
     },
     "metadata": {},
     "output_type": "display_data"
    },
    {
     "data": {
      "image/png": "[encoded data removed]",
      "text/plain": [
       "<Figure size 500x400 with 1 Axes>"
      ]
     },
     "metadata": {},
     "output_type": "display_data"
    },
    {
     "data": {
      "image/png": "[encoded data removed]",
      "text/plain": [
       "<Figure size 500x400 with 1 Axes>"
      ]
     },
     "metadata": {},
     "output_type": "display_data"
    }
   ],
   "source": [
    "# Subplot 1: Alpha Distribution\n",
    "plt.figure(figsize=(tate,yoko))\n",
    "plt.hist(data['alpha'], bins=30, color=color, edgecolor='black', density=True)\n",
    "plt.xlim(60, 120)\n",
    "plt.xlabel(r'$\\alpha$ (°)')\n",
    "plt.ylabel('Probability')\n",
    "plt.tight_layout()\n",
    "plt.savefig('figure/CSD_dataset_lattice_alpha.png', dpi=300)\n",
    "\n",
    "# Subplot 2: Beta Distribution\n",
    "plt.figure(figsize=(tate,yoko))\n",
    "plt.hist(data['beta'], bins=30, color=color, edgecolor='black', density=True)\n",
    "plt.xlim(60, 120)\n",
    "plt.xlabel(r'$\\beta$ (°)')\n",
    "plt.ylabel('Probability')\n",
    "plt.ylabel('Frequency')\n",
    "plt.tight_layout()\n",
    "plt.savefig('figure/CSD_dataset_lattice_beta.png', dpi=300)\n",
    "\n",
    "# Subplot 3: Gamma Distribution\n",
    "plt.figure(figsize=(tate,yoko))\n",
    "plt.hist(data['gamma'], bins=30, color=color, edgecolor='black', density=True)\n",
    "plt.xlim(60, 120)\n",
    "plt.xlabel(r'$\\gamma$ (°)')\n",
    "plt.ylabel('Probability')\n",
    "plt.tight_layout()\n",
    "plt.savefig('figure/CSD_dataset_lattice_gamma.png', dpi=300)\n",
    "\n",
    "# Subplot 4: Density Distribution\n",
    "plt.figure(figsize=(tate,yoko))\n",
    "plt.hist(data['density'], bins=30, color=color, edgecolor='black', density=True)\n",
    "plt.xlim(0,3)\n",
    "plt.xlabel('Density (g/cm³)')\n",
    "plt.ylabel('Probability')\n",
    "plt.tight_layout()\n",
    "plt.savefig('figure/CSD_dataset_density.png', dpi=300)\n",
    "\n",
    "# # Subplot 5: Z-value Distribution\n",
    "# plt.figure(figsize=(tate,yoko))\n",
    "# plt.hist(data['Z-value'], bins=30, color='lightpink', edgecolor='black')\n",
    "# plt.xlim(0,16)\n",
    "# plt.xlabel('Z-value')\n",
    "# plt.ylabel('Frequency')\n",
    "# plt.tight_layout()\n",
    "# plt.savefig('figure/CSD_dataset_Z.png', dpi=300)\n",
    "\n",
    "# # Subplot 6: Space Group Number Distribution (sg_number)\n",
    "# plt.figure(figsize=(tate,yoko))\n",
    "# plt.hist(data['sg_number'], bins=30, color='lightgray', edgecolor='black')\n",
    "# plt.xlim(0,230)\n",
    "# plt.xlabel('Space Group Number')\n",
    "# plt.ylabel('Frequency')\n",
    "# plt.tight_layout()\n",
    "# plt.savefig('figure/CSD_dataset_space-group.png', dpi=300)"
   ]
  },
  {
   "cell_type": "code",
   "execution_count": 76,
   "id": "897801da-37c2-4af7-9a18-243c6bab2379",
   "metadata": {},
   "outputs": [
    {
     "data": {
      "image/png": "[encoded data removed]",
      "text/plain": [
       "<Figure size 500x400 with 1 Axes>"
      ]
     },
     "metadata": {},
     "output_type": "display_data"
    },
    {
     "data": {
      "image/png": "[encoded data removed]",
      "text/plain": [
       "<Figure size 1000x400 with 1 Axes>"
      ]
     },
     "metadata": {},
     "output_type": "display_data"
    }
   ],
   "source": [
    "# Re-importing necessary libraries and loading the dataset again\n",
    "\n",
    "import pandas as pd\n",
    "import matplotlib.pyplot as plt\n",
    "\n",
    "# Subplot 1: Z-value Bar Plot\n",
    "plt.figure(figsize=(tate, yoko))\n",
    "z_value_counts = data['Z-value'].value_counts().sort_index()\n",
    "plt.bar(z_value_counts.index, z_value_counts.values/z_value_counts.sum(), color=color, edgecolor='black')\n",
    "plt.xlabel('Z-value')\n",
    "plt.ylabel('Probability')\n",
    "plt.xticks(np.arange(1,17,1))\n",
    "plt.tight_layout()\n",
    "plt.savefig('figure/CSD_dataset_Z.png', dpi=300)\n",
    "\n",
    "# Subplot 2: sg_number Bar Plot\n",
    "plt.figure(figsize=(10, 4))\n",
    "sg_number_counts = data['sg_number'].value_counts().sort_index()\n",
    "plt.bar(sg_number_counts.index, sg_number_counts.values/sg_number_counts.sum(), color='tab:orange')\n",
    "plt.xlim(0,231)\n",
    "plt.xlabel('Space group number')\n",
    "plt.ylabel('Probability')\n",
    "plt.tight_layout()\n",
    "plt.savefig('figure/CSD_dataset_sg.png', dpi=300)"
   ]
  },
  {
   "cell_type": "code",
   "execution_count": 150,
   "id": "427cf95f-db4d-4868-8757-6252b797e25f",
   "metadata": {},
   "outputs": [
    {
     "data": {
      "text/plain": [
       "170278"
      ]
     },
     "execution_count": 150,
     "metadata": {},
     "output_type": "execute_result"
    }
   ],
   "source": []
  },
  {
   "cell_type": "code",
   "execution_count": 69,
   "id": "080156d1-44ac-40da-8581-da4c1e077bf5",
   "metadata": {},
   "outputs": [
    {
     "data": {
      "text/plain": [
       "True"
      ]
     },
     "execution_count": 69,
     "metadata": {},
     "output_type": "execute_result"
    }
   ],
   "source": [
    "'.' not in data.molecule.smiles"
   ]
  },
  {
   "cell_type": "code",
   "execution_count": 30,
   "id": "f12cf46c-a5d4-439e-a6f1-8b8b08cc3fa2",
   "metadata": {},
   "outputs": [
    {
     "data": {
      "text/plain": [
       "CellLengths(a=12.3717, b=7.772, c=32.821)"
      ]
     },
     "execution_count": 30,
     "metadata": {},
     "output_type": "execute_result"
    }
   ],
   "source": [
    "data.molecule."
   ]
  },
  {
   "cell_type": "code",
   "execution_count": 72,
   "id": "799f8b43-05eb-4a8f-900e-59809b172b4c",
   "metadata": {},
   "outputs": [
    {
     "data": {
      "text/plain": [
       "'C17 H24 O3'"
      ]
     },
     "execution_count": 72,
     "metadata": {},
     "output_type": "execute_result"
    }
   ],
   "source": [
    "data.crystal."
   ]
  },
  {
   "cell_type": "code",
   "execution_count": 16,
   "id": "cb918b6d-590c-4e7b-884e-ca4dc1e31c47",
   "metadata": {},
   "outputs": [
    {
     "data": {
      "text/plain": [
       "CellAngles(alpha=108.75, beta=71.07000000000001, gamma=96.16)"
      ]
     },
     "execution_count": 16,
     "metadata": {},
     "output_type": "execute_result"
    }
   ],
   "source": [
    "alpha = data.crystal.cell_angles[0]\n",
    "beta = data.crystal.cell_angles[1]\n",
    "gamma = data.crystal.cell_angles[2]"
   ]
  },
  {
   "cell_type": "code",
   "execution_count": 19,
   "id": "c823e5ce-7faf-4f46-820d-92a25fcdce3b",
   "metadata": {},
   "outputs": [
    {
     "data": {
      "text/plain": [
       "11.372"
      ]
     },
     "execution_count": 19,
     "metadata": {},
     "output_type": "execute_result"
    }
   ],
   "source": [
    "a = data.crystal.cell_lengths[0]\n",
    "b = data.crystal.cell_lengths[1]\n",
    "c = data.crystal.cell_lengths[2]"
   ]
  },
  {
   "cell_type": "code",
   "execution_count": 20,
   "id": "988d7402-bb18-4795-b711-aa4b592343dc",
   "metadata": {},
   "outputs": [
    {
     "data": {
      "text/plain": [
       "CellLengths(a=11.372, b=10.272, c=7.359)"
      ]
     },
     "execution_count": 20,
     "metadata": {},
     "output_type": "execute_result"
    }
   ],
   "source": [
    "data.crystal.cell_lengths"
   ]
  },
  {
   "cell_type": "code",
   "execution_count": 27,
   "id": "ab2fffaf-32c6-4e55-bb60-6ef892f52cb2",
   "metadata": {},
   "outputs": [
    {
     "name": "stderr",
     "output_type": "stream",
     "text": [
      "C:\\Users\\s0928\\anaconda3\\envs\\csdpy39\\lib\\site-packages\\spglib\\spglib.py:115: DeprecationWarning: dict interface (SpglibDataset['international']) is deprecated.Use attribute interface ({self.__class__.__name__}.{key}) instead\n",
      "  warnings.warn(\n",
      "C:\\Users\\s0928\\anaconda3\\envs\\csdpy39\\lib\\site-packages\\spglib\\spglib.py:115: DeprecationWarning: dict interface (SpglibDataset['number']) is deprecated.Use attribute interface ({self.__class__.__name__}.{key}) instead\n",
      "  warnings.warn(\n",
      "C:\\Users\\s0928\\anaconda3\\envs\\csdpy39\\lib\\site-packages\\spglib\\spglib.py:115: DeprecationWarning: dict interface (SpglibDataset['equivalent_atoms']) is deprecated.Use attribute interface ({self.__class__.__name__}.{key}) instead\n",
      "  warnings.warn(\n",
      "C:\\Users\\s0928\\anaconda3\\envs\\csdpy39\\lib\\site-packages\\spglib\\spglib.py:115: DeprecationWarning: dict interface (SpglibDataset['wyckoffs']) is deprecated.Use attribute interface ({self.__class__.__name__}.{key}) instead\n",
      "  warnings.warn(\n"
     ]
    }
   ],
   "source": [
    "crystal = pyxtal(molecular=True)\n",
    "crystal.from_CSD('AACMHX10')"
   ]
  },
  {
   "cell_type": "code",
   "execution_count": 28,
   "id": "d926070e-c343-4eea-93dd-7f0137b979b9",
   "metadata": {},
   "outputs": [
    {
     "data": {
      "text/plain": [
       "\n",
       "------Crystal from CSD: AACMHX10------\n",
       "Dimension: 3\n",
       "Composition: [CC(=O)OC(=C1CCCCC1c1ccccc1)c1ccccc1]8\n",
       "Group: P b c a (61)\n",
       "  8.5350,  24.1570,  16.7580,  90.0000,  90.0000,  90.0000, orthorhombic\n",
       "Wyckoff sites:\n",
       "\tH22C21O2     @ [ 0.7703  0.1268  0.0074]  WP [8c] Site [1] Euler [   0.0    0.0    0.0]"
      ]
     },
     "execution_count": 28,
     "metadata": {},
     "output_type": "execute_result"
    }
   ],
   "source": [
    "crystal"
   ]
  },
  {
   "cell_type": "code",
   "execution_count": 33,
   "id": "647fc770-d4e8-4b04-a8c5-d9ef4c767717",
   "metadata": {},
   "outputs": [
    {
     "data": {
      "text/plain": [
       "True"
      ]
     },
     "execution_count": 33,
     "metadata": {},
     "output_type": "execute_result"
    }
   ],
   "source": [
    "data.solvent is None"
   ]
  },
  {
   "cell_type": "code",
   "execution_count": 1,
   "id": "ff0f6f5c-804c-41bf-aee0-64909fa56b19",
   "metadata": {},
   "outputs": [
    {
     "data": {
      "text/plain": [
       "(14, 2)"
      ]
     },
     "execution_count": 1,
     "metadata": {},
     "output_type": "execute_result"
    }
   ],
   "source": [
    "from ccdc.io import CrystalReader\n",
    "csd_crystal_reader = CrystalReader('CSD')\n",
    "crystal = csd_crystal_reader.crystal('UNOGIN05')\n",
    "crystal.spacegroup_number_and_setting"
   ]
  },
  {
   "cell_type": "code",
   "execution_count": 2,
   "id": "559635b4-a027-40ec-a449-f3722020ef09",
   "metadata": {},
   "outputs": [
    {
     "data": {
      "text/plain": [
       "['Contact',\n",
       " 'Disorder',\n",
       " 'HBond',\n",
       " 'MillerIndices',\n",
       " 'ReducedCell',\n",
       " '__class__',\n",
       " '__delattr__',\n",
       " '__dict__',\n",
       " '__dir__',\n",
       " '__doc__',\n",
       " '__eq__',\n",
       " '__format__',\n",
       " '__ge__',\n",
       " '__getattribute__',\n",
       " '__gt__',\n",
       " '__hash__',\n",
       " '__init__',\n",
       " '__init_subclass__',\n",
       " '__le__',\n",
       " '__lt__',\n",
       " '__module__',\n",
       " '__ne__',\n",
       " '__new__',\n",
       " '__reduce__',\n",
       " '__reduce_ex__',\n",
       " '__repr__',\n",
       " '__setattr__',\n",
       " '__sizeof__',\n",
       " '__str__',\n",
       " '__subclasshook__',\n",
       " '__weakref__',\n",
       " '_chemical_info',\n",
       " '_crystal',\n",
       " '_crystal_info',\n",
       " '_csv',\n",
       " '_decode_inclusion',\n",
       " '_identifier',\n",
       " '_voids_volume_telemetry',\n",
       " 'add_hydrogens',\n",
       " 'assign_bonds',\n",
       " 'asymmetric_unit_molecule',\n",
       " 'atoms_on_special_positions',\n",
       " 'calculated_density',\n",
       " 'cell_angles',\n",
       " 'cell_lengths',\n",
       " 'cell_volume',\n",
       " 'centre_molecule',\n",
       " 'contact_network',\n",
       " 'contacts',\n",
       " 'copy',\n",
       " 'crystal_system',\n",
       " 'disorder',\n",
       " 'disordered_molecule',\n",
       " 'formula',\n",
       " 'fractional_to_orthogonal',\n",
       " 'from_string',\n",
       " 'generate_inchi',\n",
       " 'generate_reduced_crystal',\n",
       " 'has_disorder',\n",
       " 'hbond_network',\n",
       " 'hbonds',\n",
       " 'identifier',\n",
       " 'inverted_structure',\n",
       " 'is_centrosymmetric',\n",
       " 'is_sohncke',\n",
       " 'lattice_centring',\n",
       " 'miller_indices',\n",
       " 'molecular_shell',\n",
       " 'molecule',\n",
       " 'orthogonal_to_fractional',\n",
       " 'packing',\n",
       " 'packing_coefficient',\n",
       " 'packing_shell',\n",
       " 'polymer_expansion',\n",
       " 'reduce_symmetry',\n",
       " 'reduced_cell',\n",
       " 'remove_hydrogens',\n",
       " 'slicing',\n",
       " 'spacegroup_number_and_setting',\n",
       " 'spacegroup_symbol',\n",
       " 'symmetric_molecule',\n",
       " 'symmetry_operator_description',\n",
       " 'symmetry_operators',\n",
       " 'symmetry_rotation',\n",
       " 'symmetry_translation',\n",
       " 'to_string',\n",
       " 'void_volume',\n",
       " 'z_prime',\n",
       " 'z_value']"
      ]
     },
     "execution_count": 2,
     "metadata": {},
     "output_type": "execute_result"
    }
   ],
   "source": [
    "dir(crystal)"
   ]
  },
  {
   "cell_type": "code",
   "execution_count": 6,
   "id": "89f71048-a711-4906-a73a-456b561eddbd",
   "metadata": {},
   "outputs": [
    {
     "data": {
      "text/plain": [
       "(14, 2)"
      ]
     },
     "execution_count": 6,
     "metadata": {},
     "output_type": "execute_result"
    }
   ],
   "source": [
    "crystal.reduce_symmetry().spacegroup_number_and_setting"
   ]
  },
  {
   "cell_type": "code",
   "execution_count": 4,
   "id": "b33ce346-529e-4389-b810-56616aecf4ac",
   "metadata": {},
   "outputs": [
    {
     "name": "stdout",
     "output_type": "stream",
     "text": [
      "# packages in environment at C:\\Users\\s0928\\anaconda3\\envs\\csdpy39:\n",
      "#\n",
      "# Name                    Version                   Build  Channel\n",
      "csd-python-api            3.3.1                    pypi_0    pypi\n"
     ]
    }
   ],
   "source": [
    "!conda list csd"
   ]
  },
  {
   "cell_type": "code",
   "execution_count": 9,
   "id": "c540561e-7ff6-450e-9ae4-67e24bcf4b02",
   "metadata": {},
   "outputs": [
    {
     "ename": "AttributeError",
     "evalue": "can't set attribute",
     "output_type": "error",
     "traceback": [
      "\u001b[1;31m---------------------------------------------------------------------------\u001b[0m",
      "\u001b[1;31mAttributeError\u001b[0m                            Traceback (most recent call last)",
      "Cell \u001b[1;32mIn[9], line 1\u001b[0m\n\u001b[1;32m----> 1\u001b[0m \u001b[43mcrystal\u001b[49m\u001b[38;5;241;43m.\u001b[39;49m\u001b[43mspacegroup_number_and_setting\u001b[49m \u001b[38;5;241m=\u001b[39m (\u001b[38;5;241m14\u001b[39m, \u001b[38;5;241m1\u001b[39m)\n",
      "\u001b[1;31mAttributeError\u001b[0m: can't set attribute"
     ]
    }
   ],
   "source": [
    "crystal.spacegroup_number_and_setting = (14, 1)"
   ]
  },
  {
   "cell_type": "code",
   "execution_count": 25,
   "id": "fedb28fb-61fa-483c-96bc-831172579ea6",
   "metadata": {},
   "outputs": [
    {
     "data": {
      "text/plain": [
       "(14, 2)"
      ]
     },
     "execution_count": 25,
     "metadata": {},
     "output_type": "execute_result"
    }
   ],
   "source": [
    "crystal.spacegroup_number_and_setting "
   ]
  },
  {
   "cell_type": "code",
   "execution_count": 12,
   "id": "76be5fba-e760-4691-837f-943297cfea83",
   "metadata": {},
   "outputs": [],
   "source": [
    "from ccdc.crystal import Crystal"
   ]
  },
  {
   "cell_type": "code",
   "execution_count": 16,
   "id": "7bfe1cfd-23b5-4ed8-80f5-33813669a23d",
   "metadata": {},
   "outputs": [
    {
     "data": {
      "text/plain": [
       "'P1121/n'"
      ]
     },
     "execution_count": 16,
     "metadata": {},
     "output_type": "execute_result"
    }
   ],
   "source": [
    "Crystal.generate_reduced_crystal(crystal).spacegroup_symbol"
   ]
  },
  {
   "cell_type": "code",
   "execution_count": 20,
   "id": "c944efc8-6361-480e-a2c9-1f0cdb45603a",
   "metadata": {},
   "outputs": [
    {
     "data": {
      "text/plain": [
       "CellAngles(alpha=90.0, beta=90.0, gamma=95.284)"
      ]
     },
     "execution_count": 20,
     "metadata": {},
     "output_type": "execute_result"
    }
   ],
   "source": [
    "crystal.reduced_cell.cell_angles"
   ]
  },
  {
   "cell_type": "code",
   "execution_count": null,
   "id": "7b7f6726-5881-4ccd-a362-15240daa35ab",
   "metadata": {},
   "outputs": [],
   "source": []
  }
 ],
 "metadata": {
  "kernelspec": {
   "display_name": "Python 3 (ipykernel)",
   "language": "python",
   "name": "python3"
  },
  "language_info": {
   "codemirror_mode": {
    "name": "ipython",
    "version": 3
   },
   "file_extension": ".py",
   "mimetype": "text/x-python",
   "name": "python",
   "nbconvert_exporter": "python",
   "pygments_lexer": "ipython3",
   "version": "3.9.0"
  }
 },
 "nbformat": 4,
 "nbformat_minor": 5
}
